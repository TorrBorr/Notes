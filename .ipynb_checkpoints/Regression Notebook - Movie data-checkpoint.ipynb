{
 "cells": [
  {
   "cell_type": "code",
   "execution_count": null,
   "metadata": {
    "collapsed": true
   },
   "outputs": [],
   "source": []
  },
  {
   "cell_type": "code",
   "execution_count": 179,
   "metadata": {
    "collapsed": true
   },
   "outputs": [],
   "source": [
    "#Import some of the tools I know I will need:\n",
    "import numpy as np\n",
    "import pandas as pd\n",
    "import requests\n",
    "import zipfile\n",
    "import io\n",
    "from datetime import datetime\n",
    "import random\n",
    "import matplotlib.pyplot as plt\n",
    "import seaborn as sns\n",
    "import scipy.stats\n",
    "import pickle \n",
    "\n",
    "# Python 2 & 3 Compatibility\n",
    "from __future__ import print_function, division\n",
    "\n",
    "%matplotlib inline"
   ]
  },
  {
   "cell_type": "code",
   "execution_count": 180,
   "metadata": {
    "collapsed": false
   },
   "outputs": [],
   "source": [
    "pkl_filename_master = \"/Users/torrie/Documents/Metis_Project_2_(Luther)/Past_Movie_detail_ALL_raw Pickle_file.pkl\"\n",
    "with open(pkl_filename_master, 'rb') as picklefile: \n",
    "    df_MovieData = pickle.load(picklefile)\n",
    "    \n",
    "df_MovieData = df_MovieData.reset_index(drop=True)"
   ]
  },
  {
   "cell_type": "code",
   "execution_count": 181,
   "metadata": {
    "collapsed": false
   },
   "outputs": [
    {
     "data": {
      "text/plain": [
       "Index([u'Titles', u'Ratings', u'Duration', u'Release_date', u'Writer',\n",
       "       u'Director', u'Actors', u'Genre', u'Budget', u'Opening_Weekend',\n",
       "       u'Gross', u'Production_Companies', u'Metacritic_Score', u'IMDB_Rating',\n",
       "       u'IMDB_rating_number'],\n",
       "      dtype='object')"
      ]
     },
     "execution_count": 181,
     "metadata": {},
     "output_type": "execute_result"
    }
   ],
   "source": [
    "df_MovieData.columns"
   ]
  },
  {
   "cell_type": "code",
   "execution_count": 182,
   "metadata": {
    "collapsed": false
   },
   "outputs": [
    {
     "data": {
      "text/plain": [
       "Titles                   object\n",
       "Ratings                  object\n",
       "Duration                 object\n",
       "Release_date             object\n",
       "Writer                   object\n",
       "Director                 object\n",
       "Actors                   object\n",
       "Genre                    object\n",
       "Budget                   object\n",
       "Opening_Weekend          object\n",
       "Gross                     int64\n",
       "Production_Companies     object\n",
       "Metacritic_Score         object\n",
       "IMDB_Rating             float64\n",
       "IMDB_rating_number        int64\n",
       "dtype: object"
      ]
     },
     "execution_count": 182,
     "metadata": {},
     "output_type": "execute_result"
    }
   ],
   "source": [
    "df_MovieData.dtypes"
   ]
  },
  {
   "cell_type": "markdown",
   "metadata": {},
   "source": [
    "Most of the data is \"object\" format, so I will need to convert dates to datetime and budgets and scores to numbers. "
   ]
  },
  {
   "cell_type": "code",
   "execution_count": 183,
   "metadata": {
    "collapsed": false
   },
   "outputs": [
    {
     "data": {
      "text/plain": [
       "Titles                                              When the Bough Breaks\n",
       "Ratings                                                             PG-13\n",
       "Duration                                                           PT107M\n",
       "Release_date                                                   2016-09-09\n",
       "Writer                                           [Jack Olsen, Jack Olsen]\n",
       "Director                                                     [Jon Cassar]\n",
       "Actors                  [Morris Chestnut, Regina Hall, Romany Malco, M...\n",
       "Genre                                  [Drama, Horror, Mystery, Thriller]\n",
       "Budget                                                           10000000\n",
       "Opening_Weekend                                                  14202323\n",
       "Gross                                                            29703843\n",
       "Production_Companies                       [Screen Gems, Unique Features]\n",
       "Metacritic_Score                                                       28\n",
       "IMDB_Rating                                                           4.7\n",
       "IMDB_rating_number                                                   2553\n",
       "Name: 5, dtype: object"
      ]
     },
     "execution_count": 183,
     "metadata": {},
     "output_type": "execute_result"
    }
   ],
   "source": [
    "df_MovieData.iloc[5]"
   ]
  },
  {
   "cell_type": "markdown",
   "metadata": {},
   "source": [
    "Need to change \"\"'s to nan's , turn the duration into minutes, format dates as dates, "
   ]
  },
  {
   "cell_type": "code",
   "execution_count": 184,
   "metadata": {
    "collapsed": false
   },
   "outputs": [],
   "source": [
    "df_MovieData['Duration'] = df_MovieData['Duration'].map(lambda x: x.lstrip('PT').rstrip('M'))\n",
    "df_MovieData['Release_date'] = pd.to_datetime(df_MovieData['Release_date'], format='%Y-%m-%d', errors='ignore')\n",
    "df_MovieData.replace('', np.nan, inplace=True)"
   ]
  },
  {
   "cell_type": "code",
   "execution_count": 185,
   "metadata": {
    "collapsed": true
   },
   "outputs": [],
   "source": [
    "def columns_to_numeric(df, column_list):\n",
    "    for column_name in column_list:\n",
    "        df[column_name] = pd.to_numeric(df[column_name], errors ='coerce')\n",
    "        df[column_name]= df[column_name].fillna(0).astype(int)\n",
    "        df[column_name] = df[column_name].astype(int) \n",
    "\n",
    "    return df\n",
    "\n",
    "column_list = ['Budget','Opening_Weekend','Metacritic_Score', 'IMDB_rating_number' ]\n",
    "\n",
    "df_MovieData = columns_to_numeric(df_MovieData, column_list)\n",
    "        "
   ]
  },
  {
   "cell_type": "code",
   "execution_count": 186,
   "metadata": {
    "collapsed": false
   },
   "outputs": [
    {
     "data": {
      "text/plain": [
       "Titles                          object\n",
       "Ratings                         object\n",
       "Duration                        object\n",
       "Release_date            datetime64[ns]\n",
       "Writer                          object\n",
       "Director                        object\n",
       "Actors                          object\n",
       "Genre                           object\n",
       "Budget                           int64\n",
       "Opening_Weekend                  int64\n",
       "Gross                            int64\n",
       "Production_Companies            object\n",
       "Metacritic_Score                 int64\n",
       "IMDB_Rating                    float64\n",
       "IMDB_rating_number               int64\n",
       "dtype: object"
      ]
     },
     "execution_count": 186,
     "metadata": {},
     "output_type": "execute_result"
    }
   ],
   "source": [
    "df_MovieData.dtypes"
   ]
  },
  {
   "cell_type": "markdown",
   "metadata": {},
   "source": [
    "What about doing dimensionality reduction on this one instead of only doing one-hot encoding like last time? "
   ]
  },
  {
   "cell_type": "code",
   "execution_count": null,
   "metadata": {
    "collapsed": true
   },
   "outputs": [],
   "source": []
  }
 ],
 "metadata": {
  "kernelspec": {
   "display_name": "Python 2",
   "language": "python",
   "name": "python2"
  },
  "language_info": {
   "codemirror_mode": {
    "name": "ipython",
    "version": 2
   },
   "file_extension": ".py",
   "mimetype": "text/x-python",
   "name": "python",
   "nbconvert_exporter": "python",
   "pygments_lexer": "ipython2",
   "version": "2.7.13"
  }
 },
 "nbformat": 4,
 "nbformat_minor": 2
}
