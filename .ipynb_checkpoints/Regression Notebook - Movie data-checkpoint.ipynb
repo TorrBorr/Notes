{
 "cells": [
  {
   "cell_type": "code",
   "execution_count": null,
   "metadata": {
    "collapsed": true
   },
   "outputs": [],
   "source": []
  },
  {
   "cell_type": "code",
   "execution_count": 1,
   "metadata": {
    "collapsed": true
   },
   "outputs": [],
   "source": [
    "#Import some of the tools I know I will need:\n",
    "import numpy as np\n",
    "import pandas as pd\n",
    "import requests\n",
    "import zipfile\n",
    "import io\n",
    "from datetime import datetime\n",
    "import random\n",
    "import matplotlib.pyplot as plt\n",
    "import seaborn as sns\n",
    "import scipy.stats\n",
    "import pickle \n",
    "\n",
    "# Python 2 & 3 Compatibility\n",
    "from __future__ import print_function, division\n",
    "\n",
    "%matplotlib inline"
   ]
  },
  {
   "cell_type": "code",
   "execution_count": 2,
   "metadata": {
    "collapsed": false
   },
   "outputs": [],
   "source": [
    "pkl_filename_master = \"/Users/torrie/Documents/Metis_Project_2_(Luther)/Past_Movie_detail_ALL_raw Pickle_file.pkl\"\n",
    "with open(pkl_filename_master, 'rb') as picklefile: \n",
    "    df_MovieData = pickle.load(picklefile)\n",
    "    \n",
    "df_MovieData = df_MovieData.reset_index(drop=True)"
   ]
  },
  {
   "cell_type": "code",
   "execution_count": 3,
   "metadata": {
    "collapsed": false
   },
   "outputs": [
    {
     "data": {
      "text/plain": [
       "Index([u'Titles', u'Ratings', u'Duration', u'Release_date', u'Writer',\n",
       "       u'Director', u'Actors', u'Genre', u'Budget', u'Opening_Weekend',\n",
       "       u'Gross', u'Production_Companies', u'Metacritic_Score', u'IMDB_Rating',\n",
       "       u'IMDB_rating_number'],\n",
       "      dtype='object')"
      ]
     },
     "execution_count": 3,
     "metadata": {},
     "output_type": "execute_result"
    }
   ],
   "source": [
    "df_MovieData.columns"
   ]
  },
  {
   "cell_type": "code",
   "execution_count": 4,
   "metadata": {
    "collapsed": false
   },
   "outputs": [
    {
     "data": {
      "text/plain": [
       "Titles                   object\n",
       "Ratings                  object\n",
       "Duration                 object\n",
       "Release_date             object\n",
       "Writer                   object\n",
       "Director                 object\n",
       "Actors                   object\n",
       "Genre                    object\n",
       "Budget                   object\n",
       "Opening_Weekend          object\n",
       "Gross                     int64\n",
       "Production_Companies     object\n",
       "Metacritic_Score         object\n",
       "IMDB_Rating             float64\n",
       "IMDB_rating_number        int64\n",
       "dtype: object"
      ]
     },
     "execution_count": 4,
     "metadata": {},
     "output_type": "execute_result"
    }
   ],
   "source": [
    "df_MovieData.dtypes"
   ]
  },
  {
   "cell_type": "markdown",
   "metadata": {},
   "source": [
    "Most of the data is \"object\" format, so I will need to convert dates to datetime and budgets and scores to numbers. "
   ]
  },
  {
   "cell_type": "code",
   "execution_count": 5,
   "metadata": {
    "collapsed": false
   },
   "outputs": [
    {
     "data": {
      "text/plain": [
       "Titles                                              When the Bough Breaks\n",
       "Ratings                                                             PG-13\n",
       "Duration                                                           PT107M\n",
       "Release_date                                                   2016-09-09\n",
       "Writer                                           [Jack Olsen, Jack Olsen]\n",
       "Director                                                     [Jon Cassar]\n",
       "Actors                  [Morris Chestnut, Regina Hall, Romany Malco, M...\n",
       "Genre                                  [Drama, Horror, Mystery, Thriller]\n",
       "Budget                                                           10000000\n",
       "Opening_Weekend                                                  14202323\n",
       "Gross                                                            29703843\n",
       "Production_Companies                       [Screen Gems, Unique Features]\n",
       "Metacritic_Score                                                       28\n",
       "IMDB_Rating                                                           4.7\n",
       "IMDB_rating_number                                                   2553\n",
       "Name: 5, dtype: object"
      ]
     },
     "execution_count": 5,
     "metadata": {},
     "output_type": "execute_result"
    }
   ],
   "source": [
    "df_MovieData.iloc[5]"
   ]
  },
  {
   "cell_type": "markdown",
   "metadata": {},
   "source": [
    "Need to change \"\"'s to nan's , turn the duration into minutes, format dates as dates, "
   ]
  },
  {
   "cell_type": "code",
   "execution_count": 6,
   "metadata": {
    "collapsed": false
   },
   "outputs": [],
   "source": [
    "df_MovieData['Duration'] = df_MovieData['Duration'].map(lambda x: x.lstrip('PT').rstrip('M'))\n",
    "df_MovieData['Release_date'] = pd.to_datetime(df_MovieData['Release_date'], format='%Y-%m-%d', errors='ignore')\n",
    "df_MovieData.replace('', np.nan, inplace=True)"
   ]
  },
  {
   "cell_type": "code",
   "execution_count": 7,
   "metadata": {
    "collapsed": true
   },
   "outputs": [],
   "source": [
    "def columns_to_numeric(df, column_list):\n",
    "    for column_name in column_list:\n",
    "        df[column_name] = pd.to_numeric(df[column_name], errors ='coerce')\n",
    "        df[column_name]= df[column_name].fillna(0).astype(int)\n",
    "        df[column_name] = df[column_name].astype(int) \n",
    "\n",
    "    return df\n",
    "\n",
    "column_list = ['Budget','Opening_Weekend','Metacritic_Score', 'IMDB_rating_number' ]\n",
    "\n",
    "df_MovieData = columns_to_numeric(df_MovieData, column_list)\n",
    "        "
   ]
  },
  {
   "cell_type": "code",
   "execution_count": 8,
   "metadata": {
    "collapsed": false
   },
   "outputs": [
    {
     "data": {
      "text/plain": [
       "Titles                          object\n",
       "Ratings                         object\n",
       "Duration                        object\n",
       "Release_date            datetime64[ns]\n",
       "Writer                          object\n",
       "Director                        object\n",
       "Actors                          object\n",
       "Genre                           object\n",
       "Budget                           int64\n",
       "Opening_Weekend                  int64\n",
       "Gross                            int64\n",
       "Production_Companies            object\n",
       "Metacritic_Score                 int64\n",
       "IMDB_Rating                    float64\n",
       "IMDB_rating_number               int64\n",
       "dtype: object"
      ]
     },
     "execution_count": 8,
     "metadata": {},
     "output_type": "execute_result"
    }
   ],
   "source": [
    "df_MovieData.dtypes"
   ]
  },
  {
   "cell_type": "code",
   "execution_count": null,
   "metadata": {
    "collapsed": false
   },
   "outputs": [],
   "source": [
    "#df_MovieData[df_MovieData['Director'].str.len() > 1]['Director'].apply(lambda x: x[0].replace(',', ''))\n"
   ]
  },
  {
   "cell_type": "code",
   "execution_count": 10,
   "metadata": {
    "collapsed": false
   },
   "outputs": [
    {
     "data": {
      "text/plain": [
       "Index([u'Titles', u'Ratings', u'Duration', u'Release_date', u'Writer',\n",
       "       u'Director', u'Actors', u'Genre', u'Budget', u'Opening_Weekend',\n",
       "       u'Gross', u'Production_Companies', u'Metacritic_Score', u'IMDB_Rating',\n",
       "       u'IMDB_rating_number', u'Director_1', u'Director_2', u'Director_2_comb',\n",
       "       u'Writer_1', u'Writer_2', u'Writer_2_comb', u'Actors_1', u'Actors_2',\n",
       "       u'Actors_2_comb', u'Production_Companies_1', u'Production_Companies_2',\n",
       "       u'Production_Companies_2_comb'],\n",
       "      dtype='object')"
      ]
     },
     "execution_count": 10,
     "metadata": {},
     "output_type": "execute_result"
    }
   ],
   "source": [
    "def column_lists_to_variables(df, column_list, number_of_combinations):\n",
    "    for column in column_list:\n",
    "        #name1 = column + \"_all\"\n",
    "        #df[name1] = df[column].replace(',','')\n",
    "        #df[column + \"len\"] = df[column].apply(lambda x: len(x))\n",
    "        for n in range(0,number_of_combinations):\n",
    "            num = n+1\n",
    "            df[column+\"_\"+str(num)] = np.nan\n",
    "            df[column+\"_\"+str(num)] = df[df[column].str.len() > n][column].apply(lambda x: x[n])\n",
    "            if n > 0:\n",
    "                df[column+\"_\"+str(num)+\"_comb\"] = df[df[column].str.len() > n][column].apply(lambda x: x[:(n+1)])\n",
    "            else:\n",
    "                continue\n",
    "\n",
    "    \n",
    "    return df\n",
    "\n",
    "def combination_variable(df, column1, column2, degree):\n",
    "    \n",
    "    return df\n",
    "\n",
    "column_list = ['Director', 'Writer', \"Actors\", 'Production_Companies']\n",
    "#del check\n",
    "check = column_lists_to_variables(df_MovieData, column_list, 2)\n",
    "check.columns"
   ]
  },
  {
   "cell_type": "code",
   "execution_count": 11,
   "metadata": {
    "collapsed": false
   },
   "outputs": [
    {
     "data": {
      "text/html": [
       "<div>\n",
       "<table border=\"1\" class=\"dataframe\">\n",
       "  <thead>\n",
       "    <tr style=\"text-align: right;\">\n",
       "      <th></th>\n",
       "      <th>Titles</th>\n",
       "      <th>Ratings</th>\n",
       "      <th>Duration</th>\n",
       "      <th>Release_date</th>\n",
       "      <th>Writer</th>\n",
       "      <th>Director</th>\n",
       "      <th>Actors</th>\n",
       "      <th>Genre</th>\n",
       "      <th>Budget</th>\n",
       "      <th>Opening_Weekend</th>\n",
       "      <th>...</th>\n",
       "      <th>Director_2_comb</th>\n",
       "      <th>Writer_1</th>\n",
       "      <th>Writer_2</th>\n",
       "      <th>Writer_2_comb</th>\n",
       "      <th>Actors_1</th>\n",
       "      <th>Actors_2</th>\n",
       "      <th>Actors_2_comb</th>\n",
       "      <th>Production_Companies_1</th>\n",
       "      <th>Production_Companies_2</th>\n",
       "      <th>Production_Companies_2_comb</th>\n",
       "    </tr>\n",
       "  </thead>\n",
       "  <tbody>\n",
       "    <tr>\n",
       "      <th>0</th>\n",
       "      <td>A Monster Calls</td>\n",
       "      <td>PG-13</td>\n",
       "      <td>108</td>\n",
       "      <td>2017-01-06</td>\n",
       "      <td>[Patrick Ness, Patrick Ness]</td>\n",
       "      <td>[J.A. Bayona]</td>\n",
       "      <td>[Lewis MacDougall, Sigourney Weaver, Felicity ...</td>\n",
       "      <td>[Drama, Fantasy]</td>\n",
       "      <td>43000000</td>\n",
       "      <td>30909</td>\n",
       "      <td>...</td>\n",
       "      <td>NaN</td>\n",
       "      <td>Patrick Ness</td>\n",
       "      <td>Patrick Ness</td>\n",
       "      <td>[Patrick Ness, Patrick Ness]</td>\n",
       "      <td>Lewis MacDougall</td>\n",
       "      <td>Sigourney Weaver</td>\n",
       "      <td>[Lewis MacDougall, Sigourney Weaver]</td>\n",
       "      <td>Apaches Entertainment</td>\n",
       "      <td>La Trini</td>\n",
       "      <td>[Apaches Entertainment, La Trini]</td>\n",
       "    </tr>\n",
       "    <tr>\n",
       "      <th>1</th>\n",
       "      <td>A United Kingdom</td>\n",
       "      <td>PG-13</td>\n",
       "      <td>111</td>\n",
       "      <td>2017-02-10</td>\n",
       "      <td>[Guy Hibbert, Susan Williams]</td>\n",
       "      <td>[Amma Asante]</td>\n",
       "      <td>[David Oyelowo, Rosamund Pike, Tom Felton, Jac...</td>\n",
       "      <td>[Biography, Drama, Romance]</td>\n",
       "      <td>0</td>\n",
       "      <td>66510</td>\n",
       "      <td>...</td>\n",
       "      <td>NaN</td>\n",
       "      <td>Guy Hibbert</td>\n",
       "      <td>Susan Williams</td>\n",
       "      <td>[Guy Hibbert, Susan Williams]</td>\n",
       "      <td>David Oyelowo</td>\n",
       "      <td>Rosamund Pike</td>\n",
       "      <td>[David Oyelowo, Rosamund Pike]</td>\n",
       "      <td>Pathé</td>\n",
       "      <td>BBC Films</td>\n",
       "      <td>[Pathé, BBC Films]</td>\n",
       "    </tr>\n",
       "    <tr>\n",
       "      <th>2</th>\n",
       "      <td>Carrie Pilby</td>\n",
       "      <td>NaN</td>\n",
       "      <td>98</td>\n",
       "      <td>2017-04-04</td>\n",
       "      <td>[Kara Holden, Caren Lissner]</td>\n",
       "      <td>[Susan Johnson]</td>\n",
       "      <td>[Bel Powley, Nathan Lane, Gabriel Byrne, Vanes...</td>\n",
       "      <td>[Comedy, Drama]</td>\n",
       "      <td>0</td>\n",
       "      <td>13944</td>\n",
       "      <td>...</td>\n",
       "      <td>NaN</td>\n",
       "      <td>Kara Holden</td>\n",
       "      <td>Caren Lissner</td>\n",
       "      <td>[Kara Holden, Caren Lissner]</td>\n",
       "      <td>Bel Powley</td>\n",
       "      <td>Nathan Lane</td>\n",
       "      <td>[Bel Powley, Nathan Lane]</td>\n",
       "      <td>Braveart Films</td>\n",
       "      <td>NaN</td>\n",
       "      <td>NaN</td>\n",
       "    </tr>\n",
       "  </tbody>\n",
       "</table>\n",
       "<p>3 rows × 27 columns</p>\n",
       "</div>"
      ],
      "text/plain": [
       "             Titles Ratings Duration Release_date  \\\n",
       "0   A Monster Calls   PG-13      108   2017-01-06   \n",
       "1  A United Kingdom   PG-13      111   2017-02-10   \n",
       "2      Carrie Pilby     NaN       98   2017-04-04   \n",
       "\n",
       "                          Writer         Director  \\\n",
       "0   [Patrick Ness, Patrick Ness]    [J.A. Bayona]   \n",
       "1  [Guy Hibbert, Susan Williams]    [Amma Asante]   \n",
       "2   [Kara Holden, Caren Lissner]  [Susan Johnson]   \n",
       "\n",
       "                                              Actors  \\\n",
       "0  [Lewis MacDougall, Sigourney Weaver, Felicity ...   \n",
       "1  [David Oyelowo, Rosamund Pike, Tom Felton, Jac...   \n",
       "2  [Bel Powley, Nathan Lane, Gabriel Byrne, Vanes...   \n",
       "\n",
       "                         Genre    Budget  Opening_Weekend  \\\n",
       "0             [Drama, Fantasy]  43000000            30909   \n",
       "1  [Biography, Drama, Romance]         0            66510   \n",
       "2              [Comedy, Drama]         0            13944   \n",
       "\n",
       "                 ...                  Director_2_comb      Writer_1  \\\n",
       "0                ...                              NaN  Patrick Ness   \n",
       "1                ...                              NaN   Guy Hibbert   \n",
       "2                ...                              NaN   Kara Holden   \n",
       "\n",
       "         Writer_2                  Writer_2_comb          Actors_1  \\\n",
       "0    Patrick Ness   [Patrick Ness, Patrick Ness]  Lewis MacDougall   \n",
       "1  Susan Williams  [Guy Hibbert, Susan Williams]     David Oyelowo   \n",
       "2   Caren Lissner   [Kara Holden, Caren Lissner]        Bel Powley   \n",
       "\n",
       "           Actors_2                         Actors_2_comb  \\\n",
       "0  Sigourney Weaver  [Lewis MacDougall, Sigourney Weaver]   \n",
       "1     Rosamund Pike        [David Oyelowo, Rosamund Pike]   \n",
       "2       Nathan Lane             [Bel Powley, Nathan Lane]   \n",
       "\n",
       "  Production_Companies_1 Production_Companies_2  \\\n",
       "0  Apaches Entertainment               La Trini   \n",
       "1                  Pathé              BBC Films   \n",
       "2         Braveart Films                    NaN   \n",
       "\n",
       "         Production_Companies_2_comb  \n",
       "0  [Apaches Entertainment, La Trini]  \n",
       "1                 [Pathé, BBC Films]  \n",
       "2                                NaN  \n",
       "\n",
       "[3 rows x 27 columns]"
      ]
     },
     "execution_count": 11,
     "metadata": {},
     "output_type": "execute_result"
    }
   ],
   "source": [
    "check.head(3)"
   ]
  },
  {
   "cell_type": "markdown",
   "metadata": {},
   "source": [
    "What about doing dimensionality reduction on this one instead of only doing one-hot encoding like last time? \n",
    "\n",
    "Next: Get release season, Writer+director, genre, budget colums cleaned/made."
   ]
  },
  {
   "cell_type": "code",
   "execution_count": null,
   "metadata": {
    "collapsed": true
   },
   "outputs": [],
   "source": []
  }
 ],
 "metadata": {
  "kernelspec": {
   "display_name": "Python 2",
   "language": "python",
   "name": "python2"
  },
  "language_info": {
   "codemirror_mode": {
    "name": "ipython",
    "version": 2
   },
   "file_extension": ".py",
   "mimetype": "text/x-python",
   "name": "python",
   "nbconvert_exporter": "python",
   "pygments_lexer": "ipython2",
   "version": "2.7.13"
  }
 },
 "nbformat": 4,
 "nbformat_minor": 2
}
